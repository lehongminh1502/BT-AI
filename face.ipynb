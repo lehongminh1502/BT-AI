{
  "nbformat": 4,
  "nbformat_minor": 0,
  "metadata": {
    "colab": {
      "provenance": [],
      "gpuType": "T4",
      "authorship_tag": "ABX9TyMLNE//6tMQiLeONzAaeboV",
      "include_colab_link": true
    },
    "kernelspec": {
      "name": "python3",
      "display_name": "Python 3"
    },
    "language_info": {
      "name": "python"
    },
    "accelerator": "GPU",
    "gpuClass": "standard"
  },
  "cells": [
    {
      "cell_type": "markdown",
      "metadata": {
        "id": "view-in-github",
        "colab_type": "text"
      },
      "source": [
        "<a href=\"https://colab.research.google.com/gist/lehongminh1502/ef14565d1bff0aae46dba261d3465b3f/face.ipynb\" target=\"_parent\"><img src=\"https://colab.research.google.com/assets/colab-badge.svg\" alt=\"Open In Colab\"/></a>"
      ]
    },
    {
      "cell_type": "code",
      "execution_count": 32,
      "metadata": {
        "colab": {
          "base_uri": "https://localhost:8080/"
        },
        "id": "hL6Si-NrPTYx",
        "outputId": "657f5379-a5cd-4c6a-9e2b-aafe30d03300"
      },
      "outputs": [
        {
          "output_type": "stream",
          "name": "stdout",
          "text": [
            "Drive already mounted at /content/drive; to attempt to forcibly remount, call drive.mount(\"/content/drive\", force_remount=True).\n"
          ]
        }
      ],
      "source": [
        "from google.colab import drive\n",
        "drive.mount('/content/drive')"
      ]
    },
    {
      "cell_type": "code",
      "source": [
        "import tensorflow as tf\n",
        "from tensorflow import keras\n",
        "import numpy as np\n",
        "import matplotlib.pyplot as plt\n",
        "from tensorflow.keras.preprocessing.image import ImageDataGenerator\n",
        "import os\n",
        "from keras.models import Sequential\n",
        "from keras.layers import Dense, Dropout, Conv2D, MaxPooling2D, Flatten\n",
        "from keras.optimizers import Adam\n",
        "from keras.layers import LeakyReLU\n",
        "\n",
        "from os import listdir\n",
        "from numpy import asarray,save\n",
        "from keras.utils import load_img, img_to_array"
      ],
      "metadata": {
        "id": "EideGSCVPVKM"
      },
      "execution_count": 17,
      "outputs": []
    },
    {
      "cell_type": "code",
      "source": [
        "### thay doi ti le anh tu 0->255 thanh 0->1\n",
        "train = ImageDataGenerator(rescale =1.0/255.0)\n",
        "test = ImageDataGenerator(rescale=1.0/255.0)\n",
        "     "
      ],
      "metadata": {
        "id": "J0A2mAE8PyVX"
      },
      "execution_count": 2,
      "outputs": []
    },
    {
      "cell_type": "code",
      "source": [
        "train_data = train.flow_from_directory('/content/drive/MyDrive/ANHAI/Face/Train/', target_size=(30,40), class_mode='categorical')\n",
        "val_data = test.flow_from_directory('/content/drive/MyDrive/ANHAI/Face/Test/', target_size=(30,40), class_mode='categorical')"
      ],
      "metadata": {
        "colab": {
          "base_uri": "https://localhost:8080/"
        },
        "id": "cx2WIn5FP1_R",
        "outputId": "0e8f31db-858a-4258-d3f8-c38454cdd7cc"
      },
      "execution_count": 98,
      "outputs": [
        {
          "output_type": "stream",
          "name": "stdout",
          "text": [
            "Found 180 images belonging to 3 classes.\n",
            "Found 180 images belonging to 3 classes.\n"
          ]
        }
      ]
    },
    {
      "cell_type": "code",
      "source": [
        "print('train_index :', train_data.class_indices)\n",
        "print('test_index:', val_data.class_indices)"
      ],
      "metadata": {
        "colab": {
          "base_uri": "https://localhost:8080/"
        },
        "id": "nCh6ce3nQVTm",
        "outputId": "03c971cc-1da7-46cc-a4db-9e89125f03c7"
      },
      "execution_count": 99,
      "outputs": [
        {
          "output_type": "stream",
          "name": "stdout",
          "text": [
            "train_index : {'Binh': 0, 'Kiet': 1, 'Minh': 2}\n",
            "test_index: {'Binh': 0, 'Kiet': 1, 'Minh': 2}\n"
          ]
        }
      ]
    },
    {
      "cell_type": "code",
      "source": [
        "model= Sequential()\n",
        "## lop CNN1\n",
        "model.add(Conv2D(32, kernel_size=(3,3), activation='linear',input_shape=(30,40,3), padding='same'))\n",
        "model.add(LeakyReLU(alpha=0.1))\n",
        "model.add(MaxPooling2D((2,2), padding='same'))\n",
        "## lop CNN2\n",
        "model.add(Conv2D(64,(3,3),activation='linear', padding='same'))\n",
        "model.add(LeakyReLU(alpha=0.1))\n",
        "model.add(MaxPooling2D((2,2), padding='same'))\n",
        "## lop CNN3\n",
        "model.add(Conv2D(128,(3,3),activation='linear', padding='same'))\n",
        "model.add(LeakyReLU(alpha=0.1))\n",
        "model.add(MaxPooling2D((2,2), padding='same'))\n",
        "\n",
        "batch_size=128\n",
        "epochs =30\n",
        "classes =3"
      ],
      "metadata": {
        "id": "UGvK4q4gf5x0"
      },
      "execution_count": 100,
      "outputs": []
    },
    {
      "cell_type": "code",
      "source": [
        "# chuyen du lieu tu CNN ve ANN ( 2 chieu ve 1 chieu)\n",
        "model.add(Flatten())\n",
        "##lop hidden1\n",
        "model.add(Dense(256,activation='linear'))\n",
        "model.add(LeakyReLU(alpha=0.1))\n",
        "# lop outpu\n",
        "model.add(Dense(classes, activation='softmax'))"
      ],
      "metadata": {
        "id": "OAfvzVjwf8LD"
      },
      "execution_count": 101,
      "outputs": []
    },
    {
      "cell_type": "code",
      "source": [
        "model.compile(loss='categorical_crossentropy', optimizer=Adam(), metrics=['accuracy'])\n",
        "model.summary()"
      ],
      "metadata": {
        "colab": {
          "base_uri": "https://localhost:8080/"
        },
        "id": "jaPLryj5f-lO",
        "outputId": "b1bc3276-fa3e-4d9e-8efa-ae6a3e4b5aab"
      },
      "execution_count": 102,
      "outputs": [
        {
          "output_type": "stream",
          "name": "stdout",
          "text": [
            "Model: \"sequential_1\"\n",
            "_________________________________________________________________\n",
            " Layer (type)                Output Shape              Param #   \n",
            "=================================================================\n",
            " conv2d_3 (Conv2D)           (None, 30, 40, 32)        896       \n",
            "                                                                 \n",
            " leaky_re_lu_4 (LeakyReLU)   (None, 30, 40, 32)        0         \n",
            "                                                                 \n",
            " max_pooling2d_3 (MaxPooling  (None, 15, 20, 32)       0         \n",
            " 2D)                                                             \n",
            "                                                                 \n",
            " conv2d_4 (Conv2D)           (None, 15, 20, 64)        18496     \n",
            "                                                                 \n",
            " leaky_re_lu_5 (LeakyReLU)   (None, 15, 20, 64)        0         \n",
            "                                                                 \n",
            " max_pooling2d_4 (MaxPooling  (None, 8, 10, 64)        0         \n",
            " 2D)                                                             \n",
            "                                                                 \n",
            " conv2d_5 (Conv2D)           (None, 8, 10, 128)        73856     \n",
            "                                                                 \n",
            " leaky_re_lu_6 (LeakyReLU)   (None, 8, 10, 128)        0         \n",
            "                                                                 \n",
            " max_pooling2d_5 (MaxPooling  (None, 4, 5, 128)        0         \n",
            " 2D)                                                             \n",
            "                                                                 \n",
            " flatten_1 (Flatten)         (None, 2560)              0         \n",
            "                                                                 \n",
            " dense_2 (Dense)             (None, 256)               655616    \n",
            "                                                                 \n",
            " leaky_re_lu_7 (LeakyReLU)   (None, 256)               0         \n",
            "                                                                 \n",
            " dense_3 (Dense)             (None, 3)                 771       \n",
            "                                                                 \n",
            "=================================================================\n",
            "Total params: 749,635\n",
            "Trainable params: 749,635\n",
            "Non-trainable params: 0\n",
            "_________________________________________________________________\n"
          ]
        }
      ]
    },
    {
      "cell_type": "code",
      "source": [
        "history=model.fit(train_data,epochs=30,batch_size=128,verbose=1, \n",
        "                  validation_data=val_data)"
      ],
      "metadata": {
        "colab": {
          "base_uri": "https://localhost:8080/"
        },
        "id": "aKf73Za9gB9s",
        "outputId": "cd2204aa-fb85-4e47-bc99-ec3864513662"
      },
      "execution_count": 105,
      "outputs": [
        {
          "output_type": "stream",
          "name": "stdout",
          "text": [
            "Epoch 1/30\n",
            "6/6 [==============================] - 1s 161ms/step - loss: 2.1855e-07 - accuracy: 1.0000 - val_loss: 2.1457e-07 - val_accuracy: 1.0000\n",
            "Epoch 2/30\n",
            "6/6 [==============================] - 1s 143ms/step - loss: 2.1192e-07 - accuracy: 1.0000 - val_loss: 2.0795e-07 - val_accuracy: 1.0000\n",
            "Epoch 3/30\n",
            "6/6 [==============================] - 1s 152ms/step - loss: 2.0927e-07 - accuracy: 1.0000 - val_loss: 2.0199e-07 - val_accuracy: 1.0000\n",
            "Epoch 4/30\n",
            "6/6 [==============================] - 1s 196ms/step - loss: 2.0199e-07 - accuracy: 1.0000 - val_loss: 1.9537e-07 - val_accuracy: 1.0000\n",
            "Epoch 5/30\n",
            "6/6 [==============================] - 1s 153ms/step - loss: 1.9404e-07 - accuracy: 1.0000 - val_loss: 1.8941e-07 - val_accuracy: 1.0000\n",
            "Epoch 6/30\n",
            "6/6 [==============================] - 1s 143ms/step - loss: 1.8742e-07 - accuracy: 1.0000 - val_loss: 1.8543e-07 - val_accuracy: 1.0000\n",
            "Epoch 7/30\n",
            "6/6 [==============================] - 1s 143ms/step - loss: 1.8411e-07 - accuracy: 1.0000 - val_loss: 1.8014e-07 - val_accuracy: 1.0000\n",
            "Epoch 8/30\n",
            "6/6 [==============================] - 1s 144ms/step - loss: 1.7749e-07 - accuracy: 1.0000 - val_loss: 1.7550e-07 - val_accuracy: 1.0000\n",
            "Epoch 9/30\n",
            "6/6 [==============================] - 1s 144ms/step - loss: 1.7418e-07 - accuracy: 1.0000 - val_loss: 1.7020e-07 - val_accuracy: 1.0000\n",
            "Epoch 10/30\n",
            "6/6 [==============================] - 1s 140ms/step - loss: 1.6822e-07 - accuracy: 1.0000 - val_loss: 1.6557e-07 - val_accuracy: 1.0000\n",
            "Epoch 11/30\n",
            "6/6 [==============================] - 1s 141ms/step - loss: 1.6358e-07 - accuracy: 1.0000 - val_loss: 1.6159e-07 - val_accuracy: 1.0000\n",
            "Epoch 12/30\n",
            "6/6 [==============================] - 1s 146ms/step - loss: 1.6093e-07 - accuracy: 1.0000 - val_loss: 1.5828e-07 - val_accuracy: 1.0000\n",
            "Epoch 13/30\n",
            "6/6 [==============================] - 1s 142ms/step - loss: 1.5762e-07 - accuracy: 1.0000 - val_loss: 1.5232e-07 - val_accuracy: 1.0000\n",
            "Epoch 14/30\n",
            "6/6 [==============================] - 1s 145ms/step - loss: 1.4967e-07 - accuracy: 1.0000 - val_loss: 1.4901e-07 - val_accuracy: 1.0000\n",
            "Epoch 15/30\n",
            "6/6 [==============================] - 1s 144ms/step - loss: 1.4901e-07 - accuracy: 1.0000 - val_loss: 1.4305e-07 - val_accuracy: 1.0000\n",
            "Epoch 16/30\n",
            "6/6 [==============================] - 1s 140ms/step - loss: 1.4371e-07 - accuracy: 1.0000 - val_loss: 1.4040e-07 - val_accuracy: 1.0000\n",
            "Epoch 17/30\n",
            "6/6 [==============================] - 1s 141ms/step - loss: 1.3841e-07 - accuracy: 1.0000 - val_loss: 1.3775e-07 - val_accuracy: 1.0000\n",
            "Epoch 18/30\n",
            "6/6 [==============================] - 1s 203ms/step - loss: 1.3510e-07 - accuracy: 1.0000 - val_loss: 1.3444e-07 - val_accuracy: 1.0000\n",
            "Epoch 19/30\n",
            "6/6 [==============================] - 1s 153ms/step - loss: 1.3245e-07 - accuracy: 1.0000 - val_loss: 1.3113e-07 - val_accuracy: 1.0000\n",
            "Epoch 20/30\n",
            "6/6 [==============================] - 1s 201ms/step - loss: 1.2980e-07 - accuracy: 1.0000 - val_loss: 1.2914e-07 - val_accuracy: 1.0000\n",
            "Epoch 21/30\n",
            "6/6 [==============================] - 1s 145ms/step - loss: 1.2716e-07 - accuracy: 1.0000 - val_loss: 1.2649e-07 - val_accuracy: 1.0000\n",
            "Epoch 22/30\n",
            "6/6 [==============================] - 1s 150ms/step - loss: 1.2451e-07 - accuracy: 1.0000 - val_loss: 1.2384e-07 - val_accuracy: 1.0000\n",
            "Epoch 23/30\n",
            "6/6 [==============================] - 1s 145ms/step - loss: 1.2252e-07 - accuracy: 1.0000 - val_loss: 1.2119e-07 - val_accuracy: 1.0000\n",
            "Epoch 24/30\n",
            "6/6 [==============================] - 1s 142ms/step - loss: 1.2053e-07 - accuracy: 1.0000 - val_loss: 1.1788e-07 - val_accuracy: 1.0000\n",
            "Epoch 25/30\n",
            "6/6 [==============================] - 1s 144ms/step - loss: 1.1722e-07 - accuracy: 1.0000 - val_loss: 1.1523e-07 - val_accuracy: 1.0000\n",
            "Epoch 26/30\n",
            "6/6 [==============================] - 1s 209ms/step - loss: 1.1590e-07 - accuracy: 1.0000 - val_loss: 1.1457e-07 - val_accuracy: 1.0000\n",
            "Epoch 27/30\n",
            "6/6 [==============================] - 1s 138ms/step - loss: 1.1391e-07 - accuracy: 1.0000 - val_loss: 1.1192e-07 - val_accuracy: 1.0000\n",
            "Epoch 28/30\n",
            "6/6 [==============================] - 1s 149ms/step - loss: 1.1192e-07 - accuracy: 1.0000 - val_loss: 1.0994e-07 - val_accuracy: 1.0000\n",
            "Epoch 29/30\n",
            "6/6 [==============================] - 1s 148ms/step - loss: 1.0927e-07 - accuracy: 1.0000 - val_loss: 1.0927e-07 - val_accuracy: 1.0000\n",
            "Epoch 30/30\n",
            "6/6 [==============================] - 1s 143ms/step - loss: 1.0927e-07 - accuracy: 1.0000 - val_loss: 1.0795e-07 - val_accuracy: 1.0000\n"
          ]
        }
      ]
    },
    {
      "cell_type": "code",
      "source": [
        "value=model.evaluate(train_data,verbose=0)\n",
        "print('loss', value[0])\n",
        "print('accuracy', value[1])"
      ],
      "metadata": {
        "colab": {
          "base_uri": "https://localhost:8080/"
        },
        "id": "HShJHi86g1OO",
        "outputId": "73983030-42ba-4382-e48f-43000e7d7452"
      },
      "execution_count": 106,
      "outputs": [
        {
          "output_type": "stream",
          "name": "stdout",
          "text": [
            "loss 1.0794978777539654e-07\n",
            "accuracy 1.0\n"
          ]
        }
      ]
    },
    {
      "cell_type": "code",
      "source": [
        "model.save('/content/drive/MyDrive/ANHAI/SAVE')\n",
        "accuracy =history.history['accuracy']\n",
        "loss = history.history['loss']\n",
        "epochs=range(len(accuracy))\n",
        "\n",
        "import matplotlib.pyplot as plt\n",
        "plt.plot(epochs, accuracy, 'bo', label='Training accuracy', color='green')\n",
        "plt.plot(epochs,loss , 'b', label ='Training loss')\n",
        "plt.show()"
      ],
      "metadata": {
        "colab": {
          "base_uri": "https://localhost:8080/",
          "height": 482
        },
        "id": "SmREupf_g8Va",
        "outputId": "a8ca8321-ace6-4b18-f72e-9f7d00bdd53f"
      },
      "execution_count": 114,
      "outputs": [
        {
          "output_type": "stream",
          "name": "stderr",
          "text": [
            "WARNING:absl:Found untraced functions such as _jit_compiled_convolution_op, _jit_compiled_convolution_op, _jit_compiled_convolution_op while saving (showing 3 of 3). These functions will not be directly callable after loading.\n",
            "<ipython-input-114-bc22ee3b5fa4>:7: UserWarning: color is redundantly defined by the 'color' keyword argument and the fmt string \"bo\" (-> color='b'). The keyword argument will take precedence.\n",
            "  plt.plot(epochs, accuracy, 'bo', label='Training accuracy', color='green')\n"
          ]
        },
        {
          "output_type": "display_data",
          "data": {
            "text/plain": [
              "<Figure size 640x480 with 1 Axes>"
            ],
            "image/png": "[encoded data removed]"
          },
          "metadata": {}
        }
      ]
    },
    {
      "cell_type": "code",
      "source": [
        "name_foods=['Binh','Kiet','Minh']\n",
        "filePath = '/content/drive/MyDrive/ANHAI/minh.jpg'\n",
        "testImage = load_img(filePath, color_mode = 'rgb', target_size=(30,40))\n",
        "arrayImage = img_to_array(testImage).reshape(1,30,40,3)/255\n",
        "pred = int(np.argmax(model.predict(arrayImage)))\n",
        "print(\"Predicted: \", name_foods[pred])\n",
        "plt.imshow(testImage)"
      ],
      "metadata": {
        "colab": {
          "base_uri": "https://localhost:8080/",
          "height": 482
        },
        "id": "fqA_DgoliCti",
        "outputId": "34ceed2c-f854-4e2f-c327-5e2d403dcb51"
      },
      "execution_count": 115,
      "outputs": [
        {
          "output_type": "stream",
          "name": "stdout",
          "text": [
            "1/1 [==============================] - 0s 74ms/step\n",
            "Predicted:  Minh\n"
          ]
        },
        {
          "output_type": "execute_result",
          "data": {
            "text/plain": [
              "<matplotlib.image.AxesImage at 0x7f9d01b1d820>"
            ]
          },
          "metadata": {},
          "execution_count": 115
        },
        {
          "output_type": "display_data",
          "data": {
            "text/plain": [
              "<Figure size 640x480 with 1 Axes>"
            ],
            "image/png": "[encoded data removed]"
          },
          "metadata": {}
        }
      ]
    }
  ]
}